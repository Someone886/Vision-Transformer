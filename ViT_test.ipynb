{
 "cells": [
  {
   "cell_type": "code",
   "execution_count": 1,
   "id": "9af3814c",
   "metadata": {},
   "outputs": [],
   "source": [
    "import jax\n",
    "from jax import lax\n",
    "from jax import random\n",
    "import jax.numpy as jnp\n",
    "import flax.linen as nn\n",
    "import flax\n",
    "\n",
    "import optax\n",
    "import einops"
   ]
  },
  {
   "cell_type": "code",
   "execution_count": 2,
   "id": "44aa2c08",
   "metadata": {},
   "outputs": [
    {
     "data": {
      "text/plain": [
       "[StreamExecutorGpuDevice(id=0, process_index=0, slice_index=0)]"
      ]
     },
     "execution_count": 2,
     "metadata": {},
     "output_type": "execute_result"
    }
   ],
   "source": [
    "jax.devices()"
   ]
  },
  {
   "cell_type": "code",
   "execution_count": 3,
   "id": "d4d6b3cd",
   "metadata": {},
   "outputs": [],
   "source": [
    "from ViT import *\n",
    "from transformer_attention import MSALayerConfig"
   ]
  },
  {
   "cell_type": "code",
   "execution_count": 4,
   "id": "607066e8",
   "metadata": {},
   "outputs": [
    {
     "data": {
      "text/plain": [
       "(16, 16, 3)"
      ]
     },
     "execution_count": 4,
     "metadata": {},
     "output_type": "execute_result"
    }
   ],
   "source": [
    "B = 50\n",
    "H = W = 16\n",
    "C = 3\n",
    "key1, key2 = random.split(random.PRNGKey(0), 2)\n",
    "x = random.uniform(key1, (H, W, C))\n",
    "x.shape\n"
   ]
  },
  {
   "cell_type": "code",
   "execution_count": 5,
   "id": "610c5dad",
   "metadata": {},
   "outputs": [],
   "source": [
    "patch_size = 4\n",
    "embedding_dim = 256\n",
    "num_patches = H//patch_size\n",
    "n_classes = 10\n",
    "n_heads = 4\n",
    "n_layer = 4\n",
    "feedforward_dim = 1024"
   ]
  },
  {
   "cell_type": "code",
   "execution_count": 6,
   "id": "c5329a47",
   "metadata": {},
   "outputs": [],
   "source": [
    "model = ViT(patch_size, embedding_dim, num_patches, n_classes, n_heads, n_layer, feedforward_dim)"
   ]
  },
  {
   "cell_type": "code",
   "execution_count": 7,
   "id": "4068441a",
   "metadata": {},
   "outputs": [
    {
     "name": "stdout",
     "output_type": "stream",
     "text": [
      "(16, 48)\n",
      "(16, 256)\n",
      "(17, 256)\n",
      "(17, 256)\n",
      "(17, 256)\n",
      "(17, 256)\n",
      "(10,)\n"
     ]
    },
    {
     "data": {
      "text/plain": [
       "frozen_dict_keys(['cls_token', 'position_encoding', 'patch_projection', 'transformer_encoder', 'norm', 'head'])"
      ]
     },
     "execution_count": 7,
     "metadata": {},
     "output_type": "execute_result"
    }
   ],
   "source": [
    "params = model.init(key2, x)\n",
    "params[\"params\"].keys()"
   ]
  },
  {
   "cell_type": "code",
   "execution_count": 8,
   "id": "e45b7b29",
   "metadata": {},
   "outputs": [
    {
     "name": "stdout",
     "output_type": "stream",
     "text": [
      "(16, 48)\n",
      "(16, 256)\n",
      "(17, 256)\n",
      "(17, 256)\n",
      "(17, 256)\n",
      "(17, 256)\n",
      "(10,)\n"
     ]
    }
   ],
   "source": [
    "y = model.apply(params, x)\n",
    "assert y.shape == (n_classes,)"
   ]
  },
  {
   "cell_type": "code",
   "execution_count": 9,
   "id": "1e134fc8",
   "metadata": {},
   "outputs": [],
   "source": [
    "batched_apply = jax.vmap(model.apply, (None, 0))\n",
    "\n",
    "@jax.jit\n",
    "def batched_apply2(params, v_batched):\n",
    "     return jax.vmap(model.apply,(None, 0))(params, v_batched)"
   ]
  },
  {
   "cell_type": "code",
   "execution_count": 10,
   "id": "07df78dd",
   "metadata": {},
   "outputs": [],
   "source": [
    "batched_x = random.uniform(key1, (B, H, W, C))"
   ]
  },
  {
   "cell_type": "code",
   "execution_count": 11,
   "id": "07876431",
   "metadata": {},
   "outputs": [
    {
     "name": "stdout",
     "output_type": "stream",
     "text": [
      "(16, 48)\n",
      "(16, 256)\n",
      "(17, 256)\n",
      "(17, 256)\n",
      "(17, 256)\n",
      "(17, 256)\n",
      "(10,)\n"
     ]
    }
   ],
   "source": [
    "batched_y = batched_apply(params, batched_x)\n",
    "assert batched_y.shape == (B, n_classes)"
   ]
  },
  {
   "cell_type": "code",
   "execution_count": null,
   "id": "9e180f59",
   "metadata": {},
   "outputs": [],
   "source": []
  }
 ],
 "metadata": {
  "kernelspec": {
   "display_name": "Python 3 (ipykernel)",
   "language": "python",
   "name": "python3"
  },
  "language_info": {
   "codemirror_mode": {
    "name": "ipython",
    "version": 3
   },
   "file_extension": ".py",
   "mimetype": "text/x-python",
   "name": "python",
   "nbconvert_exporter": "python",
   "pygments_lexer": "ipython3",
   "version": "3.9.13"
  }
 },
 "nbformat": 4,
 "nbformat_minor": 5
}
